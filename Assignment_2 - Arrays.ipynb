{
 "cells": [
  {
   "cell_type": "markdown",
   "id": "faf0bc35-6724-46ec-b6ef-4be144fc671c",
   "metadata": {},
   "source": [
    "**Assignment 2 - Arrays**"
   ]
  },
  {
   "cell_type": "markdown",
   "id": "a01fc476-2a10-459c-a3fb-f6ea4746bae1",
   "metadata": {},
   "source": [
    "💡 **Question 1**\n",
    "Given an integer array nums of 2n integers, group these integers into n pairs (a1, b1), (a2, b2),..., (an, bn) such that the sum of min(ai, bi) for all i is maximized. Return the maximized sum."
   ]
  },
  {
   "cell_type": "code",
   "execution_count": 3,
   "id": "2dee1e35-d374-4f0d-b0c1-0c9583451266",
   "metadata": {},
   "outputs": [
    {
     "name": "stdout",
     "output_type": "stream",
     "text": [
      "11\n"
     ]
    }
   ],
   "source": [
    "def arrayPairSum(nums):\n",
    "    nums.sort()\n",
    "    max_sum = 0\n",
    "\n",
    "    for i in range(0, len(nums), 3):\n",
    "        max_sum += nums[i]\n",
    "\n",
    "    return max_sum\n",
    "nums = [7,1,2,5,8,3,4,2]\n",
    "result = arrayPairSum(nums)\n",
    "print(result)  "
   ]
  },
  {
   "cell_type": "markdown",
   "id": "cd09839e-ed70-4c18-a0d5-56a8db5cda6d",
   "metadata": {},
   "source": [
    "💡 **Question 2**\n",
    "Alice has n candies, where the ith candy is of type candyType[i]. Alice noticed that she started to gain weight, so she visited a doctor. \n",
    "\n",
    "The doctor advised Alice to only eat n / 2 of the candies she has (n is always even). Alice likes her candies very much, and she wants to eat the maximum number of different types of candies while still following the doctor's advice. \n",
    "\n",
    "Given the integer array candyType of length n, return the maximum number of different types of candies she can eat if she only eats n / 2 of them."
   ]
  },
  {
   "cell_type": "code",
   "execution_count": 9,
   "id": "fe2bebf8-1932-42d2-bf0e-60765484ef3e",
   "metadata": {},
   "outputs": [
    {
     "name": "stdout",
     "output_type": "stream",
     "text": [
      "6\n"
     ]
    }
   ],
   "source": [
    "def distributeCandies(candyType):\n",
    "    uniqueCandies = set()\n",
    "\n",
    "    for candy in candyType:\n",
    "        uniqueCandies.add(candy)\n",
    "        if len(uniqueCandies) == len(candyType) // 2:\n",
    "            break\n",
    "\n",
    "    return min(len(uniqueCandies), len(candyType) // 2)\n",
    "candyType = [0,0,0,1,1,1,2, 2, 2, 3, 3, 3,4,5,4]\n",
    "result = distributeCandies(candyType)\n",
    "print(result)  "
   ]
  },
  {
   "cell_type": "markdown",
   "id": "d48449e2-4d60-40c3-9da2-d72b63406cd4",
   "metadata": {},
   "source": [
    "💡 **Question 3**\n",
    "We define a harmonious array as an array where the difference between its maximum value\n",
    "and its minimum value is exactly 1.\n",
    "\n",
    "Given an integer array nums, return the length of its longest harmonious subsequence\n",
    "among all its possible subsequences.\n",
    "\n",
    "A subsequence of an array is a sequence that can be derived from the array by deleting some or no elements without changing the order of the remaining elements."
   ]
  },
  {
   "cell_type": "code",
   "execution_count": 13,
   "id": "89605fd4-8b28-4f46-b42e-20c81f57f1be",
   "metadata": {},
   "outputs": [
    {
     "name": "stdout",
     "output_type": "stream",
     "text": [
      "2\n"
     ]
    }
   ],
   "source": [
    "def findLHS(nums):\n",
    "    countMap = {}\n",
    "    for num in nums:\n",
    "        countMap[num] = countMap.get(num, 0) + 1\n",
    "\n",
    "    maxLen = 0\n",
    "    for num in countMap:\n",
    "        if num + 1 in countMap:\n",
    "            maxLen = max(maxLen, countMap[num] + countMap[num + 1])\n",
    "\n",
    "    return maxLen\n",
    "nums = [0,9,8,7,6,5,4,3,2,1]\n",
    "result = findLHS(nums)\n",
    "print(result)  "
   ]
  },
  {
   "cell_type": "markdown",
   "id": "462f1995-7ee8-4064-a930-66cfaa9c0262",
   "metadata": {},
   "source": [
    "💡 **Question 4**\n",
    "You have a long flowerbed in which some of the plots are planted, and some are not.\n",
    "However, flowers cannot be planted in adjacent plots.\n",
    "Given an integer array flowerbed containing 0's and 1's, where 0 means empty and 1 means not empty, and an integer n, return true if n new flowers can be planted in the flowerbed without violating the no-adjacent-flowers rule and false otherwise."
   ]
  },
  {
   "cell_type": "code",
   "execution_count": 15,
   "id": "c943c612-1186-4d96-be34-60dc203f878f",
   "metadata": {},
   "outputs": [
    {
     "name": "stdout",
     "output_type": "stream",
     "text": [
      "True\n"
     ]
    }
   ],
   "source": [
    "def canPlaceFlowers(flowerbed, n):\n",
    "    count = 0\n",
    "    for i in range(len(flowerbed)):\n",
    "        if flowerbed[i] == 0 and (i == 0 or flowerbed[i - 1] == 0) and (i == len(flowerbed) - 1 or flowerbed[i + 1] == 0):\n",
    "            flowerbed[i] = 1\n",
    "            count += 1\n",
    "            n -= 1\n",
    "            if n <= 0:\n",
    "                return True\n",
    "    return False\n",
    "flowerbed = [1, 2, 3, 3, 2, 2, 0, 0, 0, 0, 1]\n",
    "n = 1\n",
    "result = canPlaceFlowers(flowerbed, n)\n",
    "print(result)  "
   ]
  },
  {
   "cell_type": "markdown",
   "id": "e7a9a106-8fc0-4bd8-bba5-5dd93c408dde",
   "metadata": {},
   "source": [
    "💡 **Question 5**\n",
    "Given an integer array nums, find three numbers whose product is maximum and return the maximum product."
   ]
  },
  {
   "cell_type": "code",
   "execution_count": 18,
   "id": "9797ac58-b438-45ec-9d63-aa838d0ad445",
   "metadata": {},
   "outputs": [
    {
     "name": "stdout",
     "output_type": "stream",
     "text": [
      "24\n"
     ]
    }
   ],
   "source": [
    "def maximumProduct(nums):\n",
    "    nums.sort()\n",
    "    product1 = nums[-1] * nums[-2] * nums[-3]\n",
    "    product2 = nums[0] * nums[1] * nums[-1]\n",
    "    return max(product1, product2)\n",
    "nums = [4,3,2,1,0]\n",
    "result = maximumProduct(nums)\n",
    "print(result)  \n"
   ]
  },
  {
   "cell_type": "markdown",
   "id": "a190b221-69d3-46c3-9def-2e8cfbeb68b3",
   "metadata": {},
   "source": [
    "💡 **Question 6**\n",
    "Given an array of integers nums which is sorted in ascending order, and an integer target,\n",
    "write a function to search target in nums. If target exists, then return its index. Otherwise,\n",
    "return -1.\n",
    "\n",
    "You must write an algorithm with O(log n) runtime complexity."
   ]
  },
  {
   "cell_type": "code",
   "execution_count": 20,
   "id": "074267a9-b32e-446f-8019-a19c104d5690",
   "metadata": {},
   "outputs": [
    {
     "name": "stdout",
     "output_type": "stream",
     "text": [
      "-1\n"
     ]
    }
   ],
   "source": [
    "def search(nums, target):\n",
    "    left = 0\n",
    "    right = len(nums) - 1\n",
    "\n",
    "    while left <= right:\n",
    "        mid = left + (right - left) // 2\n",
    "\n",
    "        if nums[mid] == target:\n",
    "            return mid\n",
    "        elif nums[mid] > target:\n",
    "            right = mid - 1\n",
    "        else:\n",
    "            left = mid + 1\n",
    "\n",
    "    return -1\n",
    "nums = [-4,-2,-5,0,1,2,5,7,8,10,7]\n",
    "target = 9\n",
    "result = search(nums, target)\n",
    "print(result)  "
   ]
  },
  {
   "cell_type": "markdown",
   "id": "7526cd7f-5f00-4682-8bb7-96352108ae7a",
   "metadata": {},
   "source": [
    "💡 **Question 7**\n",
    "An array is monotonic if it is either monotone increasing or monotone decreasing.\n",
    "\n",
    "An array nums is monotone increasing if for all i <= j, nums[i] <= nums[j]. An array nums is\n",
    "monotone decreasing if for all i <= j, nums[i] >= nums[j].\n",
    "\n",
    "Given an integer array nums, return true if the given array is monotonic, or false otherwise."
   ]
  },
  {
   "cell_type": "code",
   "execution_count": 24,
   "id": "9ee394be-fb44-4693-aa3f-703a4740ff52",
   "metadata": {},
   "outputs": [
    {
     "name": "stdout",
     "output_type": "stream",
     "text": [
      "False\n"
     ]
    }
   ],
   "source": [
    "def isMonotonic(nums):\n",
    "    increasing = True\n",
    "    decreasing = True\n",
    "\n",
    "    for i in range(1, len(nums)):\n",
    "        if nums[i] > nums[i - 1]:\n",
    "            decreasing = False\n",
    "        if nums[i] < nums[i - 1]:\n",
    "            increasing = False\n",
    "\n",
    "    return increasing or decreasing\n",
    "nums = [0,0,1,3,6,8,9,3]\n",
    "result = isMonotonic(nums)\n",
    "print(result)  "
   ]
  },
  {
   "cell_type": "markdown",
   "id": "d574d9c0-3df4-482d-b50e-2e385fda44ef",
   "metadata": {},
   "source": [
    "💡 **Question 8**\n",
    "You are given an integer array nums and an integer k.\n",
    "\n",
    "In one operation, you can choose any index i where 0 <= i < nums.length and change nums[i] to nums[i] + x where x is an integer from the range [-k, k]. You can apply this operation at most once for each index i.\n",
    "\n",
    "The score of nums is the difference between the maximum and minimum elements in nums.\n",
    "\n",
    "Return the minimum score of nums after applying the mentioned operation at most once for each index in it."
   ]
  },
  {
   "cell_type": "code",
   "execution_count": 27,
   "id": "3e724943-8044-44a2-b19b-fc995b25ee29",
   "metadata": {},
   "outputs": [
    {
     "name": "stdout",
     "output_type": "stream",
     "text": [
      "0\n"
     ]
    }
   ],
   "source": [
    "def minimumScore(nums, k):\n",
    "    min_score = float('inf')\n",
    "\n",
    "    for x in range(-k, k + 1):\n",
    "        max_val = float('-inf')\n",
    "        min_val = float('inf')\n",
    "\n",
    "        for num in nums:\n",
    "            max_val = max(max_val, num + x)\n",
    "            min_val = min(min_val, num + x)\n",
    "\n",
    "        min_score = min(min_score, max_val - min_val)\n",
    "\n",
    "    return min_score\n",
    "nums = [1]\n",
    "k = 0\n",
    "result = minimumScore(nums, k)\n",
    "print(result) "
   ]
  },
  {
   "cell_type": "code",
   "execution_count": null,
   "id": "33fcde52-dcf9-4088-8054-b0d52a4be9bc",
   "metadata": {},
   "outputs": [],
   "source": []
  }
 ],
 "metadata": {
  "kernelspec": {
   "display_name": "Python 3 (ipykernel)",
   "language": "python",
   "name": "python3"
  },
  "language_info": {
   "codemirror_mode": {
    "name": "ipython",
    "version": 3
   },
   "file_extension": ".py",
   "mimetype": "text/x-python",
   "name": "python",
   "nbconvert_exporter": "python",
   "pygments_lexer": "ipython3",
   "version": "3.10.6"
  }
 },
 "nbformat": 4,
 "nbformat_minor": 5
}
