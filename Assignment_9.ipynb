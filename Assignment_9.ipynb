{
 "cells": [
  {
   "cell_type": "markdown",
   "id": "ca97f138-c4a7-464d-b397-fbae5d1f7b88",
   "metadata": {},
   "source": [
    "💡 **Question 1**\n",
    "\n",
    "Given an integer `n`, return *`true` if it is a power of two. Otherwise, return `false`*.\n",
    "\n",
    "An integer `n` is a power of two, if there exists an integer `x` such that `n == 2x`.\n",
    "\n",
    "**Example 1:**\n",
    "Input: n = 1 \n",
    "\n",
    "Output: true\n",
    "\n",
    "**Example 2:**\n",
    "Input: n = 16 \n",
    "\n",
    "Output: true\n",
    "\n",
    "**Example 3:**\n",
    "Input: n = 3 \n",
    "\n",
    "Output: false"
   ]
  },
  {
   "cell_type": "code",
   "execution_count": 2,
   "id": "532847c0-adac-4a2f-ab70-d6aef6bc499c",
   "metadata": {},
   "outputs": [
    {
     "name": "stdout",
     "output_type": "stream",
     "text": [
      "True\n",
      "False\n"
     ]
    }
   ],
   "source": [
    "def isPowerOfTwo(n):\n",
    "    if n <= 0:\n",
    "        return False\n",
    "\n",
    "    return n & (n - 1) == 0\n",
    "n = 1\n",
    "result = isPowerOfTwo(n)\n",
    "print(result)  \n",
    "n = 3\n",
    "result = isPowerOfTwo(n)\n",
    "print(result) "
   ]
  },
  {
   "cell_type": "markdown",
   "id": "54b342db-1e5a-429a-9326-c7240a4ecf1f",
   "metadata": {},
   "source": [
    "💡 **Question 2**\n",
    "\n",
    "Given a number n, find the sum of the first natural numbers.\n",
    "\n",
    "**Example 1:**\n",
    "\n",
    "Input: n = 3 \n",
    "\n",
    "Output: 6\n",
    "\n",
    "**Example 2:**\n",
    "\n",
    "Input  : 5 \n",
    "\n",
    "Output : 15"
   ]
  },
  {
   "cell_type": "code",
   "execution_count": 3,
   "id": "a1b3d5f1-3d9e-4e29-af59-6a56bc788623",
   "metadata": {},
   "outputs": [
    {
     "name": "stdout",
     "output_type": "stream",
     "text": [
      "6\n",
      "15\n"
     ]
    }
   ],
   "source": [
    "def sumOfNaturalNumbers(n):\n",
    "    return (n * (n + 1)) // 2\n",
    "n = 3\n",
    "result = sumOfNaturalNumbers(n)\n",
    "print(result)  # Output: 6\n",
    "\n",
    "n = 5\n",
    "result = sumOfNaturalNumbers(n)\n",
    "print(result)  # Output: 15\n"
   ]
  },
  {
   "cell_type": "markdown",
   "id": "d5d9fbf6-9931-4073-b563-9a5df244ce2b",
   "metadata": {},
   "source": [
    "💡 **Question 3**\n",
    "\n",
    "****Given a positive integer, N. Find the factorial of N. \n",
    "\n",
    "**Example 1:**\n",
    "\n",
    "Input: N = 5 \n",
    "\n",
    "Output: 120\n",
    "\n",
    "**Example 2:**\n",
    "\n",
    "Input: N = 4\n",
    "\n",
    "Output: 24"
   ]
  },
  {
   "cell_type": "code",
   "execution_count": 4,
   "id": "33b8eb3d-4700-4505-ae34-ac8ce30ed3fa",
   "metadata": {},
   "outputs": [
    {
     "name": "stdout",
     "output_type": "stream",
     "text": [
      "120\n",
      "24\n"
     ]
    }
   ],
   "source": [
    "def factorial(N):\n",
    "    factorial = 1\n",
    "    for i in range(N, 0, -1):\n",
    "        factorial *= i\n",
    "    return factorial\n",
    "N = 5\n",
    "result = factorial(N)\n",
    "print(result)  # Output: 120\n",
    "\n",
    "N = 4\n",
    "result = factorial(N)\n",
    "print(result)  # Output: 24\n"
   ]
  },
  {
   "cell_type": "markdown",
   "id": "2c501f26-5906-48e7-aaf6-e81ead8d76ac",
   "metadata": {},
   "source": [
    "💡 **Question 4**\n",
    "\n",
    "Given a number N and a power P, the task is to find the exponent of this number raised to the given power, i.e. N^P.\n",
    "\n",
    "**Example 1 :** \n",
    "\n",
    "Input: N = 5, P = 2\n",
    "\n",
    "Output: 25\n",
    "\n",
    "**Example 2 :**\n",
    "Input: N = 2, P = 5\n",
    "\n",
    "Output: 3"
   ]
  },
  {
   "cell_type": "code",
   "execution_count": 5,
   "id": "3bea74fb-30c1-4718-894a-f569ff881c0e",
   "metadata": {},
   "outputs": [
    {
     "name": "stdout",
     "output_type": "stream",
     "text": [
      "25\n",
      "32\n"
     ]
    }
   ],
   "source": [
    "def exponentiation(N, P):\n",
    "    return N ** P\n",
    "N = 5\n",
    "P = 2\n",
    "result = exponentiation(N, P)\n",
    "print(result)  # Output: 25\n",
    "\n",
    "N = 2\n",
    "P = 5\n",
    "result = exponentiation(N, P)\n",
    "print(result)  # Output: 32\n"
   ]
  },
  {
   "cell_type": "markdown",
   "id": "06ed7d58-59d1-4f49-8627-721a1d7bff62",
   "metadata": {},
   "source": [
    "💡 **Question 5**\n",
    "\n",
    "Given an array of integers **arr**, the task is to find maximum element of that array using recursion.\n",
    "\n",
    "**Example 1:**\n",
    "\n",
    "Input: arr = {1, 4, 3, -5, -4, 8, 6};\n",
    "Output: 8\n",
    "\n",
    "**Example 2:**\n",
    "\n",
    "Input: arr = {1, 4, 45, 6, 10, -8};\n",
    "Output: 45"
   ]
  },
  {
   "cell_type": "code",
   "execution_count": 6,
   "id": "087addb4-1d15-44a1-872d-878b1a619ba1",
   "metadata": {},
   "outputs": [
    {
     "name": "stdout",
     "output_type": "stream",
     "text": [
      "8\n",
      "45\n"
     ]
    }
   ],
   "source": [
    "def find_max(arr, start, end):\n",
    "    if start == end:\n",
    "        return arr[start]\n",
    "    \n",
    "    mid = (start + end) // 2\n",
    "    max_left = find_max(arr, start, mid)\n",
    "    max_right = find_max(arr, mid + 1, end)\n",
    "    \n",
    "    return max(max_left, max_right)\n",
    "arr = [1, 4, 3, -5, -4, 8, 6]\n",
    "result = find_max(arr, 0, len(arr) - 1)\n",
    "print(result)  # Output: 8\n",
    "\n",
    "arr = [1, 4, 45, 6, 10, -8]\n",
    "result = find_max(arr, 0, len(arr) - 1)\n",
    "print(result)  # Output: 45\n"
   ]
  },
  {
   "cell_type": "markdown",
   "id": "e6a88852-d600-4923-8424-1741dde9914e",
   "metadata": {},
   "source": [
    "💡 **Question 6**\n",
    "\n",
    "Given first term (a), common difference (d) and a integer N of the Arithmetic Progression series, the task is to find Nth term of the series.\n",
    "\n",
    "**Example 1:**\n",
    "\n",
    "Input : a = 2 d = 1 N = 5\n",
    "Output : 6\n",
    "The 5th term of the series is : 6\n",
    "\n",
    "**Example 2:**\n",
    "\n",
    "Input : a = 5 d = 2 N = 10\n",
    "Output : 23\n",
    "The 10th term of the series is : 23\n",
    "\n"
   ]
  },
  {
   "cell_type": "code",
   "execution_count": 8,
   "id": "0866dc50-95be-447f-b39b-ed0bd4d3a7ed",
   "metadata": {},
   "outputs": [
    {
     "name": "stdout",
     "output_type": "stream",
     "text": [
      "6\n",
      "23\n"
     ]
    }
   ],
   "source": [
    "def find_nth_term(a, d, N):\n",
    "    nth_term = a + (N - 1) * d\n",
    "    return nth_term\n",
    "a = 2\n",
    "d = 1\n",
    "N = 5\n",
    "result = find_nth_term(a, d, N)\n",
    "print(result)  # Output: 6\n",
    "\n",
    "a = 5\n",
    "d = 2\n",
    "N = 10\n",
    "result = find_nth_term(a, d, N)\n",
    "print(result)  # Output: 23\n"
   ]
  },
  {
   "cell_type": "markdown",
   "id": "2369e616-dbf5-4ddc-8a60-6a75952fc695",
   "metadata": {},
   "source": [
    "💡 **Question 7**\n",
    "\n",
    "Given a string S, the task is to write a program to print all permutations of a given string.\n",
    "\n",
    "**Example 1:**\n",
    "\n",
    "***Input:***\n",
    "\n",
    "*S = “ABC”*\n",
    "\n",
    "***Output:***\n",
    "\n",
    "*“ABC”, “ACB”, “BAC”, “BCA”, “CBA”, “CAB”*\n",
    "\n",
    "**Example 2:**\n",
    "\n",
    "***Input:***\n",
    "\n",
    "*S = “XY”*\n",
    "\n",
    "***Output:***\n",
    "\n",
    "*“XY”, “YX”*"
   ]
  },
  {
   "cell_type": "code",
   "execution_count": 10,
   "id": "10be97ce-7393-4cee-b197-07ba3db5f6a0",
   "metadata": {},
   "outputs": [
    {
     "name": "stdout",
     "output_type": "stream",
     "text": [
      "['ABC', 'ACB', 'BAC', 'BCA', 'CAB', 'CBA']\n",
      "['XY', 'YX']\n"
     ]
    }
   ],
   "source": [
    "def permute_string(S):\n",
    "    # Base case: if the string has only one character, return it\n",
    "    if len(S) == 1:\n",
    "        return [S]\n",
    "    \n",
    "    # List to store the permutations\n",
    "    permutations = []\n",
    "    \n",
    "    # Iterate through each character in the string\n",
    "    for i in range(len(S)):\n",
    "        # Extract the current character\n",
    "        current_char = S[i]\n",
    "        \n",
    "        # Generate permutations of the remaining characters\n",
    "        remaining_chars = S[:i] + S[i+1:]\n",
    "        remaining_permutations = permute_string(remaining_chars)\n",
    "        \n",
    "        # Add the current character to each permutation of the remaining characters\n",
    "        for permutation in remaining_permutations:\n",
    "            permutations.append(current_char + permutation)\n",
    "    \n",
    "    return permutations\n",
    "S = \"ABC\"\n",
    "result = permute_string(S)\n",
    "print(result)  # Output: [\"ABC\", \"ACB\", \"BAC\", \"BCA\", \"CBA\", \"CAB\"]\n",
    "\n",
    "S = \"XY\"\n",
    "result = permute_string(S)\n",
    "print(result)  # Output: [\"XY\", \"YX\"]\n"
   ]
  },
  {
   "cell_type": "markdown",
   "id": "f5abacfa-6deb-494c-a2f5-b2d1507b25f7",
   "metadata": {},
   "source": [
    "\n",
    "💡 **Question 8**\n",
    "\n",
    "Given an array, find a product of all array elements.\n",
    "\n",
    "**Example 1:**\n",
    "\n",
    "Input  : arr[] = {1, 2, 3, 4, 5}\n",
    "Output : 120\n",
    "**Example 2:**\n",
    "\n",
    "Input  : arr[] = {1, 6, 3}\n",
    "Output : 18"
   ]
  },
  {
   "cell_type": "code",
   "execution_count": 11,
   "id": "2084641d-56e7-4ced-b0c4-edd46638c032",
   "metadata": {},
   "outputs": [
    {
     "name": "stdout",
     "output_type": "stream",
     "text": [
      "120\n",
      "18\n"
     ]
    }
   ],
   "source": [
    "def product_of_array(arr):\n",
    "    product = 1\n",
    "    \n",
    "    for num in arr:\n",
    "        product *= num\n",
    "    \n",
    "    return product\n",
    "arr = [1, 2, 3, 4, 5]\n",
    "result = product_of_array(arr)\n",
    "print(result)  # Output: 120\n",
    "\n",
    "arr = [1, 6, 3]\n",
    "result = product_of_array(arr)\n",
    "print(result)  # Output: 18\n"
   ]
  },
  {
   "cell_type": "code",
   "execution_count": null,
   "id": "c3d62e91-c166-4957-a00b-59cef13cea5b",
   "metadata": {},
   "outputs": [],
   "source": []
  }
 ],
 "metadata": {
  "kernelspec": {
   "display_name": "Python 3 (ipykernel)",
   "language": "python",
   "name": "python3"
  },
  "language_info": {
   "codemirror_mode": {
    "name": "ipython",
    "version": 3
   },
   "file_extension": ".py",
   "mimetype": "text/x-python",
   "name": "python",
   "nbconvert_exporter": "python",
   "pygments_lexer": "ipython3",
   "version": "3.10.6"
  }
 },
 "nbformat": 4,
 "nbformat_minor": 5
}
