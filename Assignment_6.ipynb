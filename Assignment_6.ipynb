{
 "cells": [
  {
   "cell_type": "markdown",
   "id": "bff73b22-b9d6-4f78-83f9-5c90e8f0a0ae",
   "metadata": {},
   "source": [
    "💡 **Question 1**\n",
    "\n",
    "A permutation perm of n + 1 integers of all the integers in the range [0, n] can be represented as a string s of length n where:\n",
    "\n",
    "- s[i] == 'I' if perm[i] < perm[i + 1], and\n",
    "- s[i] == 'D' if perm[i] > perm[i + 1].\n",
    "\n",
    "Given a string s, reconstruct the permutation perm and return it. If there are multiple valid permutations perm, return **any of them**."
   ]
  },
  {
   "cell_type": "code",
   "execution_count": 1,
   "id": "fcdfdc44-9d50-46f5-ab5a-2b4996ad5e3a",
   "metadata": {},
   "outputs": [
    {
     "data": {
      "text/plain": [
       "[0, 4, 1, 3, 2]"
      ]
     },
     "execution_count": 1,
     "metadata": {},
     "output_type": "execute_result"
    }
   ],
   "source": [
    "def find_permutation(s):\n",
    "    n = len(s)\n",
    "    perm = []\n",
    "    low, high = 0, n\n",
    "\n",
    "    for char in s:\n",
    "        if char == 'I':\n",
    "            perm.append(low)\n",
    "            low += 1\n",
    "        else:\n",
    "            perm.append(high)\n",
    "            high -= 1\n",
    "\n",
    "    perm.append(low)  # Append the last remaining element\n",
    "\n",
    "    return perm\n",
    "find_permutation( s = \"IDID\")"
   ]
  },
  {
   "cell_type": "markdown",
   "id": "adfe3609-139d-4d34-b2fc-8184bcc84183",
   "metadata": {},
   "source": [
    "💡 **Question 2**\n",
    "\n",
    "You are given an m x n integer matrix matrix with the following two properties:\n",
    "\n",
    "- Each row is sorted in non-decreasing order.\n",
    "- The first integer of each row is greater than the last integer of the previous row.\n",
    "\n",
    "Given an integer target, return true *if* target *is in* matrix *or* false *otherwise*.\n",
    "\n",
    "You must write a solution in O(log(m * n)) time complexity."
   ]
  },
  {
   "cell_type": "code",
   "execution_count": 2,
   "id": "46e94799-c5a0-4ba9-b7bf-562183537111",
   "metadata": {},
   "outputs": [
    {
     "name": "stdout",
     "output_type": "stream",
     "text": [
      "True\n"
     ]
    }
   ],
   "source": [
    "def searchMatrix(matrix, target):\n",
    "    if not matrix or not matrix[0]:\n",
    "        return False\n",
    "    \n",
    "    rows, cols = len(matrix), len(matrix[0])\n",
    "    left, right = 0, rows * cols - 1\n",
    "    \n",
    "    while left <= right:\n",
    "        mid = (left + right) // 2\n",
    "        num = matrix[mid // cols][mid % cols]\n",
    "        \n",
    "        if num == target:\n",
    "            return True\n",
    "        elif num < target:\n",
    "            left = mid + 1\n",
    "        else:\n",
    "            right = mid - 1\n",
    "    \n",
    "    return False\n",
    "matrix = [\n",
    "    [1, 3, 5, 7],\n",
    "    [10, 11, 16, 20],\n",
    "    [23, 30, 34, 60]\n",
    "]\n",
    "target = 3\n",
    "\n",
    "found = searchMatrix(matrix, target)\n",
    "print(found)\n"
   ]
  },
  {
   "cell_type": "markdown",
   "id": "5e320771-2303-42ff-80c0-0a9ae1d9dc1d",
   "metadata": {},
   "source": [
    "💡 **Question 3**\n",
    "\n",
    "Given an array of integers arr, return *true if and only if it is a valid mountain array*.\n",
    "\n",
    "Recall that arr is a mountain array if and only if:\n",
    "\n",
    "- arr.length >= 3\n",
    "- There exists some i with 0 < i < arr.length - 1 such that:\n",
    "    - arr[0] < arr[1] < ... < arr[i - 1] < arr[i]\n",
    "    - arr[i] > arr[i + 1] > ... > arr[arr.length - 1]"
   ]
  },
  {
   "cell_type": "code",
   "execution_count": 4,
   "id": "924ff787-9ca0-4dcf-a482-8c89a31131f2",
   "metadata": {},
   "outputs": [
    {
     "name": "stdout",
     "output_type": "stream",
     "text": [
      "True\n"
     ]
    }
   ],
   "source": [
    "def validMountainArray(arr):\n",
    "    n = len(arr)\n",
    "    if n < 3:\n",
    "        return False\n",
    "    \n",
    "    # Check for increasing sequence\n",
    "    i = 0\n",
    "    while i < n - 1 and arr[i] < arr[i + 1]:\n",
    "        i += 1\n",
    "    \n",
    "    # If no increasing sequence or the first/last element is part of the increasing sequence\n",
    "    if i == 0 or i == n - 1:\n",
    "        return False\n",
    "    \n",
    "    # Check for decreasing sequence\n",
    "    while i < n - 1 and arr[i] > arr[i + 1]:\n",
    "        i += 1\n",
    "    \n",
    "    # If the last element is part of the decreasing sequence\n",
    "    return i == n - 1\n",
    "arr = [0, 3, 2, 1]\n",
    "\n",
    "is_valid = validMountainArray(arr)\n",
    "print(is_valid)\n"
   ]
  },
  {
   "cell_type": "markdown",
   "id": "74c0e026-382c-413d-a2cd-e004ffe4a5c3",
   "metadata": {},
   "source": [
    "💡 **Question 4**\n",
    "\n",
    "Given a binary array nums, return *the maximum length of a contiguous subarray with an equal number of* 0 *and* 1."
   ]
  },
  {
   "cell_type": "code",
   "execution_count": 5,
   "id": "c4ef85b9-de72-4cce-92db-0cefad67eac7",
   "metadata": {},
   "outputs": [
    {
     "name": "stdout",
     "output_type": "stream",
     "text": [
      "6\n"
     ]
    }
   ],
   "source": [
    "def findMaxLength(nums):\n",
    "    count_map = {0: -1}\n",
    "    max_length = 0\n",
    "    count = 0\n",
    "\n",
    "    for i in range(len(nums)):\n",
    "        if nums[i] == 0:\n",
    "            count -= 1\n",
    "        else:\n",
    "            count += 1\n",
    "\n",
    "        if count in count_map:\n",
    "            max_length = max(max_length, i - count_map[count])\n",
    "        else:\n",
    "            count_map[count] = i\n",
    "\n",
    "    return max_length\n",
    "nums = [0, 1, 0, 0, 1, 1, 0]\n",
    "\n",
    "max_length = findMaxLength(nums)\n",
    "print(max_length)\n"
   ]
  },
  {
   "cell_type": "markdown",
   "id": "20e62e9c-649c-4371-a657-fc0298e03ccd",
   "metadata": {},
   "source": [
    "💡 **Question 5**\n",
    "\n",
    "The **product sum** of two equal-length arrays a and b is equal to the sum of a[i] * b[i] for all 0 <= i < a.length (**0-indexed**).\n",
    "\n",
    "- For example, if a = [1,2,3,4] and b = [5,2,3,1], the **product sum** would be 1*5 + 2*2 + 3*3 + 4*1 = 22.\n",
    "\n",
    "Given two arrays nums1 and nums2 of length n, return *the **minimum product sum** if you are allowed to **rearrange** the **order** of the elements in* nums1."
   ]
  },
  {
   "cell_type": "code",
   "execution_count": 7,
   "id": "227c90ff-1c9d-4eed-baee-65f9e9dfb93b",
   "metadata": {},
   "outputs": [
    {
     "name": "stdout",
     "output_type": "stream",
     "text": [
      "21\n"
     ]
    }
   ],
   "source": [
    "def minProductSum(nums1, nums2):\n",
    "    nums1.sort()  # Sort nums1 in ascending order\n",
    "    nums2.sort(reverse=True)  # Sort nums2 in descending order\n",
    "\n",
    "    min_product_sum = 0\n",
    "\n",
    "    for i in range(len(nums1)):\n",
    "        min_product_sum += nums1[i] * nums2[i]\n",
    "\n",
    "    return min_product_sum\n",
    "nums1 = [1, 2, 3, 4]\n",
    "nums2 = [5, 2, 3, 1]\n",
    "\n",
    "min_product_sum = minProductSum(nums1, nums2)\n",
    "print(min_product_sum)\n"
   ]
  },
  {
   "cell_type": "markdown",
   "id": "9156a90b-50f9-4aca-bb51-47bd9e6fd06a",
   "metadata": {},
   "source": [
    "💡 **Question 6**\n",
    "\n",
    "An integer array original is transformed into a **doubled** array changed by appending **twice the value** of every element in original, and then randomly **shuffling** the resulting array.\n",
    "\n",
    "Given an array changed, return original *if* changed *is a **doubled** array. If* changed *is not a **doubled** array, return an empty array. The elements in* original *may be returned in **any** order*."
   ]
  },
  {
   "cell_type": "code",
   "execution_count": 10,
   "id": "2bb1435c-d6c9-44bf-b60d-154ad4939e6f",
   "metadata": {},
   "outputs": [
    {
     "name": "stdout",
     "output_type": "stream",
     "text": [
      "[]\n"
     ]
    }
   ],
   "source": [
    "from collections import defaultdict\n",
    "\n",
    "def findOriginalArray(changed):\n",
    "    if len(changed) % 2 != 0:\n",
    "        return []\n",
    "\n",
    "    count = defaultdict(int)\n",
    "\n",
    "    for num in changed:\n",
    "        if count[num/2] > 0:\n",
    "            count[num/2] -= 1\n",
    "        else:\n",
    "            return []\n",
    "\n",
    "        count[num] += 1\n",
    "\n",
    "    original = []\n",
    "    for num, freq in count.items():\n",
    "        original.extend([num] * freq)\n",
    "\n",
    "    return original\n",
    "changed = [2, 4, 6, 8, 10, 2, 6, 10]\n",
    "\n",
    "original = findOriginalArray(changed)\n",
    "print(original)"
   ]
  },
  {
   "cell_type": "markdown",
   "id": "502c711c-d31f-4645-b7c4-36de2535b35a",
   "metadata": {},
   "source": [
    "💡 **Question 7**\n",
    "\n",
    "Given a positive integer n, generate an n x n matrix filled with elements from 1 to n2 in spiral order."
   ]
  },
  {
   "cell_type": "code",
   "execution_count": 13,
   "id": "a6f79b68-f69a-486c-b502-ba7ea4e4e701",
   "metadata": {},
   "outputs": [
    {
     "name": "stdout",
     "output_type": "stream",
     "text": [
      "[1, 2, 3, 4]\n",
      "[12, 13, 14, 5]\n",
      "[11, 16, 15, 6]\n",
      "[10, 9, 8, 7]\n"
     ]
    }
   ],
   "source": [
    "def generateMatrix(n):\n",
    "    matrix = [[0] * n for _ in range(n)]\n",
    "    startRow, endRow = 0, n - 1\n",
    "    startCol, endCol = 0, n - 1\n",
    "    num = 1\n",
    "\n",
    "    while num <= n * n:\n",
    "        # Fill top row\n",
    "        for col in range(startCol, endCol + 1):\n",
    "            matrix[startRow][col] = num\n",
    "            num += 1\n",
    "        startRow += 1\n",
    "\n",
    "        # Fill rightmost column\n",
    "        for row in range(startRow, endRow + 1):\n",
    "            matrix[row][endCol] = num\n",
    "            num += 1\n",
    "        endCol -= 1\n",
    "\n",
    "        # Fill bottom row\n",
    "        for col in range(endCol, startCol - 1, -1):\n",
    "            matrix[endRow][col] = num\n",
    "            num += 1\n",
    "        endRow -= 1\n",
    "\n",
    "        # Fill leftmost column\n",
    "        for row in range(endRow, startRow - 1, -1):\n",
    "            matrix[row][startCol] = num\n",
    "            num += 1\n",
    "        startCol += 1\n",
    "\n",
    "    return matrix\n",
    "n = 4\n",
    "matrix = generateMatrix(n)\n",
    "for row in matrix:\n",
    "    print(row)\n"
   ]
  },
  {
   "cell_type": "markdown",
   "id": "bc2061fa-8e1c-499a-a1f9-51a2ebbc73f0",
   "metadata": {},
   "source": [
    "💡 **Question 8**\n",
    "\n",
    "Given two [sparse matrices](https://en.wikipedia.org/wiki/Sparse_matrix) mat1 of size m x k and mat2 of size k x n, return the result of mat1 x mat2. You may assume that multiplication is always possible."
   ]
  },
  {
   "cell_type": "code",
   "execution_count": 14,
   "id": "4e28892b-0478-4d02-b0bf-916b2bd9b2cd",
   "metadata": {},
   "outputs": [
    {
     "name": "stdout",
     "output_type": "stream",
     "text": [
      "[7, 0, 0]\n",
      "[-7, 0, 3]\n"
     ]
    }
   ],
   "source": [
    "def multiply(mat1, mat2):\n",
    "    m, k = len(mat1), len(mat1[0])\n",
    "    n = len(mat2[0])\n",
    "\n",
    "    result = [[0] * n for _ in range(m)]\n",
    "\n",
    "    for i in range(m):\n",
    "        for j in range(k):\n",
    "            if mat1[i][j] != 0:\n",
    "                for l in range(n):\n",
    "                    if mat2[j][l] != 0:\n",
    "                        if result[i][l] == 0:\n",
    "                            result[i][l] = mat1[i][j] * mat2[j][l]\n",
    "                        else:\n",
    "                            result[i][l] += mat1[i][j] * mat2[j][l]\n",
    "\n",
    "    return result\n",
    "mat1 = [[1, 0, 0],\n",
    "        [-1, 0, 3]]\n",
    "\n",
    "mat2 = [[7, 0, 0],\n",
    "        [0, 0, 0],\n",
    "        [0, 0, 1]]\n",
    "\n",
    "result = multiply(mat1, mat2)\n",
    "for row in result:\n",
    "    print(row)\n"
   ]
  },
  {
   "cell_type": "code",
   "execution_count": null,
   "id": "e31fd2df-c1f4-436f-9cbe-e341769bfca9",
   "metadata": {},
   "outputs": [],
   "source": []
  }
 ],
 "metadata": {
  "kernelspec": {
   "display_name": "Python 3 (ipykernel)",
   "language": "python",
   "name": "python3"
  },
  "language_info": {
   "codemirror_mode": {
    "name": "ipython",
    "version": 3
   },
   "file_extension": ".py",
   "mimetype": "text/x-python",
   "name": "python",
   "nbconvert_exporter": "python",
   "pygments_lexer": "ipython3",
   "version": "3.10.6"
  }
 },
 "nbformat": 4,
 "nbformat_minor": 5
}
